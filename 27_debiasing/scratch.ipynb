{
 "cells": [
  {
   "cell_type": "code",
   "execution_count": 1,
   "metadata": {},
   "outputs": [],
   "source": [
    "import torch\n",
    "import torch.nn as nn\n",
    "import torch.optim as optim\n",
    "import numpy as np\n",
    "import networks\n",
    "import data_handler\n",
    "import trainer\n",
    "from utils import check_log_dir, make_log_name, set_seed\n",
    "from arguments import get_args\n",
    "import time\n",
    "import os \n",
    "import argparse\n",
    "# args = get_args()\n"
   ]
  },
  {
   "attachments": {},
   "cell_type": "markdown",
   "metadata": {},
   "source": [
    "## Hyperparameters"
   ]
  },
  {
   "cell_type": "code",
   "execution_count": 3,
   "metadata": {},
   "outputs": [],
   "source": [
    "\"\"\"\n",
    "Hyperparameters\n",
    "\"\"\"\n",
    "\n",
    "args = argparse.Namespace(\n",
    "    seed = 0,\n",
    "    dataset = 'waterbird',\n",
    "    batch_size = 128,\n",
    "    epochs = 1,\n",
    "    device = 0,\n",
    "    n_workers = 1,\n",
    "    balSampling = False,\n",
    "    model = 'resnet18',\n",
    "    pretrained = True,\n",
    "    method = 'scratch',\n",
    "    optim = 'SGD',\n",
    "    lr = 0.01,\n",
    "    weight_decay = 0.0001,\n",
    "    cuda = True,\n",
    "    term = 20,\n",
    "    record = False,\n",
    "    log_dir = './logs/',\n",
    "    date = '20230828',\n",
    "    save_dir = './trained_models/',\n",
    ")\n",
    "\n",
    "torch.backends.cudnn.enabled = True\n",
    "set_seed(args.seed)\n",
    "\n",
    "np.set_printoptions(precision=4)\n",
    "torch.set_printoptions(precision=4)\n"
   ]
  },
  {
   "attachments": {},
   "cell_type": "markdown",
   "metadata": {},
   "source": [
    "## Load dataset & network model"
   ]
  },
  {
   "cell_type": "code",
   "execution_count": 4,
   "metadata": {},
   "outputs": [
    {
     "name": "stderr",
     "output_type": "stream",
     "text": [
      "/mnt/ssd/sw-jung/anaconda3/envs/env/lib/python3.8/site-packages/torchvision/transforms/transforms.py:257: UserWarning: Argument interpolation should be of type InterpolationMode instead of int. Please, use InterpolationMode enum.\n",
      "  warnings.warn(\n"
     ]
    },
    {
     "ename": "KeyError",
     "evalue": "256",
     "output_type": "error",
     "traceback": [
      "\u001b[0;31m---------------------------------------------------------------------------\u001b[0m",
      "\u001b[0;31mKeyError\u001b[0m                                  Traceback (most recent call last)",
      "\u001b[0;32m<ipython-input-4-525268843d54>\u001b[0m in \u001b[0;36m<module>\u001b[0;34m\u001b[0m\n\u001b[1;32m      1\u001b[0m \u001b[0;31m########################## get dataloader ################################\u001b[0m\u001b[0;34m\u001b[0m\u001b[0;34m\u001b[0m\u001b[0;34m\u001b[0m\u001b[0m\n\u001b[0;32m----> 2\u001b[0;31m tmp = data_handler.DataloaderFactory.get_dataloader(args.dataset, \n\u001b[0m\u001b[1;32m      3\u001b[0m                                                     \u001b[0mbatch_size\u001b[0m\u001b[0;34m=\u001b[0m\u001b[0margs\u001b[0m\u001b[0;34m.\u001b[0m\u001b[0mbatch_size\u001b[0m\u001b[0;34m,\u001b[0m\u001b[0;34m\u001b[0m\u001b[0;34m\u001b[0m\u001b[0m\n\u001b[1;32m      4\u001b[0m                                                     \u001b[0mseed\u001b[0m\u001b[0;34m=\u001b[0m\u001b[0margs\u001b[0m\u001b[0;34m.\u001b[0m\u001b[0mseed\u001b[0m\u001b[0;34m,\u001b[0m\u001b[0;34m\u001b[0m\u001b[0;34m\u001b[0m\u001b[0m\n\u001b[1;32m      5\u001b[0m                                                     \u001b[0mn_workers\u001b[0m\u001b[0;34m=\u001b[0m\u001b[0margs\u001b[0m\u001b[0;34m.\u001b[0m\u001b[0mn_workers\u001b[0m\u001b[0;34m,\u001b[0m\u001b[0;34m\u001b[0m\u001b[0;34m\u001b[0m\u001b[0m\n",
      "\u001b[0;32m~/samsung/ldro/data_handler/dataloader_factory.py\u001b[0m in \u001b[0;36mget_dataloader\u001b[0;34m(name, batch_size, seed, n_workers, balSampling, args)\u001b[0m\n\u001b[1;32m     14\u001b[0m                        balSampling=False, args=None):\n\u001b[1;32m     15\u001b[0m \u001b[0;34m\u001b[0m\u001b[0m\n\u001b[0;32m---> 16\u001b[0;31m         test_dataset = DatasetFactory.get_dataset(name, split='test',\n\u001b[0m\u001b[1;32m     17\u001b[0m                                                   seed=seed, bs=batch_size,method=args.method)\n\u001b[1;32m     18\u001b[0m         train_dataset = DatasetFactory.get_dataset(name, split='train',\n",
      "\u001b[0;32m~/samsung/ldro/data_handler/dataset_factory.py\u001b[0m in \u001b[0;36mget_dataset\u001b[0;34m(name, split, seed, balSampling, bs, method)\u001b[0m\n\u001b[1;32m     23\u001b[0m             \u001b[0;32mraise\u001b[0m \u001b[0mException\u001b[0m\u001b[0;34m(\u001b[0m\u001b[0;34m'Not allowed method'\u001b[0m\u001b[0;34m)\u001b[0m\u001b[0;34m\u001b[0m\u001b[0;34m\u001b[0m\u001b[0m\n\u001b[1;32m     24\u001b[0m \u001b[0;34m\u001b[0m\u001b[0m\n\u001b[0;32m---> 25\u001b[0;31m         \u001b[0mmodule\u001b[0m \u001b[0;34m=\u001b[0m \u001b[0mimportlib\u001b[0m\u001b[0;34m.\u001b[0m\u001b[0mimport_module\u001b[0m\u001b[0;34m(\u001b[0m\u001b[0mdataset_dict\u001b[0m\u001b[0;34m[\u001b[0m\u001b[0mname\u001b[0m\u001b[0;34m]\u001b[0m\u001b[0;34m[\u001b[0m\u001b[0;36m0\u001b[0m\u001b[0;34m]\u001b[0m\u001b[0;34m)\u001b[0m\u001b[0;34m\u001b[0m\u001b[0;34m\u001b[0m\u001b[0m\n\u001b[0m\u001b[1;32m     26\u001b[0m         \u001b[0mclass_\u001b[0m \u001b[0;34m=\u001b[0m \u001b[0mgetattr\u001b[0m\u001b[0;34m(\u001b[0m\u001b[0mmodule\u001b[0m\u001b[0;34m,\u001b[0m \u001b[0mdataset_dict\u001b[0m\u001b[0;34m[\u001b[0m\u001b[0mname\u001b[0m\u001b[0;34m]\u001b[0m\u001b[0;34m[\u001b[0m\u001b[0;36m1\u001b[0m\u001b[0;34m]\u001b[0m\u001b[0;34m)\u001b[0m\u001b[0;34m\u001b[0m\u001b[0;34m\u001b[0m\u001b[0m\n\u001b[1;32m     27\u001b[0m \u001b[0;34m\u001b[0m\u001b[0m\n",
      "\u001b[0;32m~/anaconda3/envs/env/lib/python3.8/importlib/__init__.py\u001b[0m in \u001b[0;36mimport_module\u001b[0;34m(name, package)\u001b[0m\n\u001b[1;32m    125\u001b[0m                 \u001b[0;32mbreak\u001b[0m\u001b[0;34m\u001b[0m\u001b[0;34m\u001b[0m\u001b[0m\n\u001b[1;32m    126\u001b[0m             \u001b[0mlevel\u001b[0m \u001b[0;34m+=\u001b[0m \u001b[0;36m1\u001b[0m\u001b[0;34m\u001b[0m\u001b[0;34m\u001b[0m\u001b[0m\n\u001b[0;32m--> 127\u001b[0;31m     \u001b[0;32mreturn\u001b[0m \u001b[0m_bootstrap\u001b[0m\u001b[0;34m.\u001b[0m\u001b[0m_gcd_import\u001b[0m\u001b[0;34m(\u001b[0m\u001b[0mname\u001b[0m\u001b[0;34m[\u001b[0m\u001b[0mlevel\u001b[0m\u001b[0;34m:\u001b[0m\u001b[0;34m]\u001b[0m\u001b[0;34m,\u001b[0m \u001b[0mpackage\u001b[0m\u001b[0;34m,\u001b[0m \u001b[0mlevel\u001b[0m\u001b[0;34m)\u001b[0m\u001b[0;34m\u001b[0m\u001b[0;34m\u001b[0m\u001b[0m\n\u001b[0m\u001b[1;32m    128\u001b[0m \u001b[0;34m\u001b[0m\u001b[0m\n\u001b[1;32m    129\u001b[0m \u001b[0;34m\u001b[0m\u001b[0m\n",
      "\u001b[0;32m~/anaconda3/envs/env/lib/python3.8/importlib/_bootstrap.py\u001b[0m in \u001b[0;36m_gcd_import\u001b[0;34m(name, package, level)\u001b[0m\n",
      "\u001b[0;32m~/anaconda3/envs/env/lib/python3.8/importlib/_bootstrap.py\u001b[0m in \u001b[0;36m_find_and_load\u001b[0;34m(name, import_)\u001b[0m\n",
      "\u001b[0;32m~/anaconda3/envs/env/lib/python3.8/importlib/_bootstrap.py\u001b[0m in \u001b[0;36m_find_and_load_unlocked\u001b[0;34m(name, import_)\u001b[0m\n",
      "\u001b[0;32m~/anaconda3/envs/env/lib/python3.8/importlib/_bootstrap.py\u001b[0m in \u001b[0;36m_load_unlocked\u001b[0;34m(spec)\u001b[0m\n",
      "\u001b[0;32m~/anaconda3/envs/env/lib/python3.8/importlib/_bootstrap_external.py\u001b[0m in \u001b[0;36mexec_module\u001b[0;34m(self, module)\u001b[0m\n",
      "\u001b[0;32m~/anaconda3/envs/env/lib/python3.8/importlib/_bootstrap.py\u001b[0m in \u001b[0;36m_call_with_frames_removed\u001b[0;34m(f, *args, **kwds)\u001b[0m\n",
      "\u001b[0;32m~/samsung/ldro/data_handler/waterbird.py\u001b[0m in \u001b[0;36m<module>\u001b[0;34m\u001b[0m\n\u001b[1;32m      9\u001b[0m \u001b[0;32mfrom\u001b[0m \u001b[0mdata_handler\u001b[0m\u001b[0;34m.\u001b[0m\u001b[0mutils\u001b[0m \u001b[0;32mimport\u001b[0m \u001b[0mget_mean_std\u001b[0m\u001b[0;34m\u001b[0m\u001b[0;34m\u001b[0m\u001b[0m\n\u001b[1;32m     10\u001b[0m \u001b[0;34m\u001b[0m\u001b[0m\n\u001b[0;32m---> 11\u001b[0;31m \u001b[0;32mclass\u001b[0m \u001b[0mWaterBird\u001b[0m\u001b[0;34m(\u001b[0m\u001b[0mGenericDataset\u001b[0m\u001b[0;34m)\u001b[0m\u001b[0;34m:\u001b[0m\u001b[0;34m\u001b[0m\u001b[0;34m\u001b[0m\u001b[0m\n\u001b[0m\u001b[1;32m     12\u001b[0m     \"\"\"\n\u001b[1;32m     13\u001b[0m     \u001b[0mCUB\u001b[0m \u001b[0mdataset\u001b[0m \u001b[0;34m(\u001b[0m\u001b[0malready\u001b[0m \u001b[0mcropped\u001b[0m \u001b[0;32mand\u001b[0m \u001b[0mcentered\u001b[0m\u001b[0;34m)\u001b[0m\u001b[0;34m.\u001b[0m\u001b[0;34m\u001b[0m\u001b[0;34m\u001b[0m\u001b[0m\n",
      "\u001b[0;32m~/samsung/ldro/data_handler/waterbird.py\u001b[0m in \u001b[0;36mWaterBird\u001b[0;34m()\u001b[0m\n\u001b[1;32m     18\u001b[0m  \u001b[0;31m# Resizes the image to a slightly larger square then crops the center.\u001b[0m\u001b[0;34m\u001b[0m\u001b[0;34m\u001b[0m\u001b[0;34m\u001b[0m\u001b[0m\n\u001b[1;32m     19\u001b[0m     transform = transforms.Compose([\n\u001b[0;32m---> 20\u001b[0;31m         \u001b[0mtransforms\u001b[0m\u001b[0;34m.\u001b[0m\u001b[0mResize\u001b[0m\u001b[0;34m(\u001b[0m\u001b[0;36m256\u001b[0m\u001b[0;34m,\u001b[0m\u001b[0;36m256\u001b[0m\u001b[0;34m)\u001b[0m\u001b[0;34m,\u001b[0m\u001b[0;34m\u001b[0m\u001b[0;34m\u001b[0m\u001b[0m\n\u001b[0m\u001b[1;32m     21\u001b[0m         \u001b[0mtransforms\u001b[0m\u001b[0;34m.\u001b[0m\u001b[0mCenterCrop\u001b[0m\u001b[0;34m(\u001b[0m\u001b[0;34m(\u001b[0m\u001b[0;36m224\u001b[0m\u001b[0;34m,\u001b[0m\u001b[0;36m224\u001b[0m\u001b[0;34m)\u001b[0m\u001b[0;34m)\u001b[0m\u001b[0;34m,\u001b[0m\u001b[0;34m\u001b[0m\u001b[0;34m\u001b[0m\u001b[0m\n\u001b[1;32m     22\u001b[0m         \u001b[0mtransforms\u001b[0m\u001b[0;34m.\u001b[0m\u001b[0mToTensor\u001b[0m\u001b[0;34m(\u001b[0m\u001b[0;34m)\u001b[0m\u001b[0;34m,\u001b[0m\u001b[0;34m\u001b[0m\u001b[0;34m\u001b[0m\u001b[0m\n",
      "\u001b[0;32m~/anaconda3/envs/env/lib/python3.8/site-packages/torchvision/transforms/transforms.py\u001b[0m in \u001b[0;36m__init__\u001b[0;34m(self, size, interpolation)\u001b[0m\n\u001b[1;32m    259\u001b[0m                 \u001b[0;34m\"Please, use InterpolationMode enum.\"\u001b[0m\u001b[0;34m\u001b[0m\u001b[0;34m\u001b[0m\u001b[0m\n\u001b[1;32m    260\u001b[0m             )\n\u001b[0;32m--> 261\u001b[0;31m             \u001b[0minterpolation\u001b[0m \u001b[0;34m=\u001b[0m \u001b[0m_interpolation_modes_from_int\u001b[0m\u001b[0;34m(\u001b[0m\u001b[0minterpolation\u001b[0m\u001b[0;34m)\u001b[0m\u001b[0;34m\u001b[0m\u001b[0;34m\u001b[0m\u001b[0m\n\u001b[0m\u001b[1;32m    262\u001b[0m \u001b[0;34m\u001b[0m\u001b[0m\n\u001b[1;32m    263\u001b[0m         \u001b[0mself\u001b[0m\u001b[0;34m.\u001b[0m\u001b[0minterpolation\u001b[0m \u001b[0;34m=\u001b[0m \u001b[0minterpolation\u001b[0m\u001b[0;34m\u001b[0m\u001b[0;34m\u001b[0m\u001b[0m\n",
      "\u001b[0;32m~/anaconda3/envs/env/lib/python3.8/site-packages/torchvision/transforms/functional.py\u001b[0m in \u001b[0;36m_interpolation_modes_from_int\u001b[0;34m(i)\u001b[0m\n\u001b[1;32m     43\u001b[0m         \u001b[0;36m1\u001b[0m\u001b[0;34m:\u001b[0m \u001b[0mInterpolationMode\u001b[0m\u001b[0;34m.\u001b[0m\u001b[0mLANCZOS\u001b[0m\u001b[0;34m,\u001b[0m\u001b[0;34m\u001b[0m\u001b[0;34m\u001b[0m\u001b[0m\n\u001b[1;32m     44\u001b[0m     }\n\u001b[0;32m---> 45\u001b[0;31m     \u001b[0;32mreturn\u001b[0m \u001b[0minverse_modes_mapping\u001b[0m\u001b[0;34m[\u001b[0m\u001b[0mi\u001b[0m\u001b[0;34m]\u001b[0m\u001b[0;34m\u001b[0m\u001b[0;34m\u001b[0m\u001b[0m\n\u001b[0m\u001b[1;32m     46\u001b[0m \u001b[0;34m\u001b[0m\u001b[0m\n\u001b[1;32m     47\u001b[0m \u001b[0;34m\u001b[0m\u001b[0m\n",
      "\u001b[0;31mKeyError\u001b[0m: 256"
     ]
    }
   ],
   "source": [
    "########################## get dataloader ################################\n",
    "tmp = data_handler.DataloaderFactory.get_dataloader(args.dataset, \n",
    "                                                    batch_size=args.batch_size,\n",
    "                                                    seed=args.seed,\n",
    "                                                    n_workers=args.n_workers,\n",
    "                                                    balSampling=args.balSampling,\n",
    "                                                    args=args\n",
    "                                                    )\n",
    "n_classes, n_groups, train_loader, test_loader = tmp\n",
    "########################## get model ##################################\n",
    "model = networks.ModelFactory.get_model(args.model, n_classes, 224,\n",
    "                                        pretrained=args.pretrained, n_groups=n_groups)\n",
    "\n",
    "model.cuda('cuda:{}'.format(args.device))\n",
    "print('successfully call the model')\n",
    "#     set_seed(seed)\n",
    "scheduler=None\n",
    "########################## get trainer ##################################\n",
    "if args.optim == 'Adam':\n",
    "    optimizer = optim.Adam(model.parameters(), lr=args.lr, weight_decay=args.weight_decay)\n",
    "elif args.optim == 'SGD':\n",
    "    optimizer = optim.SGD(model.parameters(), lr=args.lr, weight_decay=args.weight_decay)\n",
    "elif args.optim == 'AdamW':\n",
    "    optimizer = optim.AdamW(model.parameters(), lr=args.lr, weight_decay=args.weight_decay)\n",
    "\n",
    "trainer_ = trainer.TrainerFactory.get_trainer(args.method, model=model, args=args,\n",
    "                                            optimizer=optimizer, scheduler=scheduler)"
   ]
  },
  {
   "attachments": {},
   "cell_type": "markdown",
   "metadata": {},
   "source": [
    "## Start training"
   ]
  },
  {
   "cell_type": "code",
   "execution_count": 4,
   "metadata": {},
   "outputs": [
    {
     "name": "stdout",
     "output_type": "stream",
     "text": [
      "[1/1,    20] Method: scratch Train Loss: 0.365 Train Acc: 0.85 [0.49 s/batch]\n",
      "[1/1] Method: scratch Test Loss: 0.476 Test Acc: 0.78 Test DCAM 0.67 [19.73 s]\n",
      "Training Finished!\n",
      "Training Time : 0 hours 0 minutes\n"
     ]
    }
   ],
   "source": [
    "####################### start training & evaluation ####################\n",
    "start_t = time.time()\n",
    "trainer_.train(train_loader, test_loader, args.epochs)\n",
    "end_t = time.time()\n",
    "train_t = int((end_t - start_t)/60)  # to minutes\n",
    "\n",
    "print('Training Time : {} hours {} minutes'.format(int(train_t/60), (train_t % 60)))  \n"
   ]
  },
  {
   "attachments": {},
   "cell_type": "markdown",
   "metadata": {},
   "source": [
    "## Evaluation"
   ]
  },
  {
   "cell_type": "code",
   "execution_count": 5,
   "metadata": {},
   "outputs": [
    {
     "name": "stdout",
     "output_type": "stream",
     "text": [
      "Test\n",
      "Loss: 0.476\n",
      "Accuracy: 0.780\n",
      "DCA-M: 0.665\n",
      "DCA-A: 0.455\n",
      "Group Accuracy:\n",
      "[[0.9978 0.1121]\n",
      " [0.7534 0.7773]]\n",
      "Group Loss:\n",
      "[[0.0435 1.9802]\n",
      " [0.4823 0.466 ]]\n"
     ]
    }
   ],
   "source": [
    "####################### Evaluation ####################\n",
    "criterion = torch.nn.CrossEntropyLoss(reduction='none')\n",
    "\n",
    "loss, acc, dcaM, dcaA, group_acc, group_loss = trainer_.evaluate(trainer_.model, test_loader, criterion, train=False)\n",
    "print('Test')\n",
    "# print('Loss \\t Accuracy \\t DCA-M \\t DCA-A \\t Group Accuracy \\t Group Loss \\t')\n",
    "print('Loss: {:.3f}'.format(loss.item()))\n",
    "acc = (group_acc[0,0] * 0.95 + group_acc[0,1] * 0.05 + group_acc[1,0]*0.05 + group_acc[1,1]) / 2\n",
    "print('Accuracy: {:.3f}'.format(acc.item()))\n",
    "print('DCA-M: {:.3f}'.format(dcaM))\n",
    "print('DCA-A: {:.3f}'.format(dcaA))\n",
    "print('Group Accuracy:')\n",
    "print(group_acc.cpu().numpy())\n",
    "print('Group Loss:')\n",
    "print(group_loss.cpu().numpy())"
   ]
  }
 ],
 "metadata": {
  "kernelspec": {
   "display_name": "RL",
   "language": "python",
   "name": "python3"
  },
  "language_info": {
   "codemirror_mode": {
    "name": "ipython",
    "version": 3
   },
   "file_extension": ".py",
   "mimetype": "text/x-python",
   "name": "python",
   "nbconvert_exporter": "python",
   "pygments_lexer": "ipython3",
   "version": "3.8.5"
  },
  "orig_nbformat": 4,
  "vscode": {
   "interpreter": {
    "hash": "0af934fd5f63b10f0093229f5aa712a88f1a08c9bdbda85463161ba6ff4e6adb"
   }
  }
 },
 "nbformat": 4,
 "nbformat_minor": 2
}
